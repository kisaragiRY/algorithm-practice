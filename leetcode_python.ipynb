{
 "cells": [
  {
   "cell_type": "markdown",
   "metadata": {},
   "source": [
    "# 腾讯精选练习 50题\n",
    "Selected Exercises 50 Questions（Tencent）"
   ]
  },
  {
   "cell_type": "markdown",
   "metadata": {},
   "source": [
    "### 2. 两数相加 Add Two Numbers (medium)"
   ]
  },
  {
   "cell_type": "code",
   "execution_count": 25,
   "metadata": {},
   "outputs": [
    {
     "name": "stdout",
     "output_type": "stream",
     "text": [
      "4\n",
      "0\n",
      "4\n"
     ]
    }
   ],
   "source": [
    "# Definition for singly-linked list.\n",
    "class ListNode:\n",
    "    def __init__(self, val=0, next=None):\n",
    "        self.val = val\n",
    "        self.next = next\n",
    "\n",
    "class Solution:\n",
    "    def addTwoNumbers(self, l1: ListNode, l2: ListNode) -> ListNode:\n",
    "        head=tail=False #用tail来追踪当前节点\n",
    "        carry=0 # 进位\n",
    "        while (l1 or l2):\n",
    "            n1=l1.val if l1 else 0\n",
    "            n2=l2.val if l2 else 0\n",
    "            sum = n1+n2+carry\n",
    "            if (not head):\n",
    "                head = tail = ListNode(sum%10)\n",
    "            else:\n",
    "                tail.next=ListNode(sum%10)\n",
    "                tail=tail.next\n",
    "            carry= sum //10\n",
    "            if l1: l1 = l1.next\n",
    "            if l2: l2 = l2.next\n",
    "        if carry>0: tail.next=ListNode(carry)\n",
    "        return head\n",
    "\n",
    "#---test\n",
    "l1=ListNode(3,ListNode(4)) #3 -> 4 -> none\n",
    "l2=ListNode(1,ListNode(6,ListNode(3))) #1 ->6 -> 3 -> none\n",
    "sol=Solution().addTwoNumbers(l1,l2)\n",
    "print(sol.val)\n",
    "print(sol.next.val)\n",
    "print((sol.next).next.val)"
   ]
  },
  {
   "cell_type": "markdown",
   "metadata": {},
   "source": [
    "### 4. 寻找两个正序数组的中位数 Median of Two Sorted Arrays(hard)"
   ]
  },
  {
   "cell_type": "markdown",
   "metadata": {},
   "source": [
    "*from Leetcode official*\n",
    "\n",
    "根据中位数的定义，\n",
    "* 当 $m+n$ 是奇数时，中位数是两个有序数组中的第 $(m+n)/2$ 个元素\n",
    "* 当$m+n$是偶数时，中位数是两个有序数组中的第$(m+n)/2$个元素和第 $(m+n)/2+1$个元素的平均值。\n",
    "\n",
    "因此，这道题可以转化成寻找两个有序数组中的第$k$小的数，其中$k$为$(m+n)/2$或$(m+n)/2+1$。\n",
    "\n",
    "因此我们可以归纳出三种情况： \n",
    "1. 如果 $A[k/2−1]<B[k/2−1]$，则比 $A[k/2−1]$小的数最多只有$A$的前 $k/2−1$个数和$B$的前$k/2−1$个数，即比$A[k/2−1]$小的数最多只有$k−2$个，因此$A[k/2−1]$不可能是第$k$个数，$A[0]$到$A[k/2−1]$也都不可能是第$k$个数，可以全部排除。 \n",
    "2. 如果$A[k/2−1]>B[k/2−1]$，则可以排除$B[0]$到$B[k/2−1]$。 \n",
    "3. 如果$A[k/2−1]=B[k/2−1]$，则可以归入第一种情况处理。 \n"
   ]
  },
  {
   "cell_type": "code",
   "execution_count": 35,
   "metadata": {},
   "outputs": [],
   "source": [
    "from typing import List\n",
    "\n",
    "class Solution:\n",
    "    def findMedianSortedArrays(self, nums1: List[int], nums2: List[int]) -> float:\n",
    "        def getKthElement(k):\n",
    "            index1,index2=0,0 #tracing the index of the last elements deleted\n",
    "            while True:\n",
    "                # base case:\n",
    "                if index1 == m : # median is not in list1\n",
    "                    return nums2[index2+k-1]\n",
    "                if index2 == n : # median is not in list2\n",
    "                    return nums1[index1+k-1]\n",
    "                if k == 1:\n",
    "                    return min(nums1[index1],nums2[index2])\n",
    "\n",
    "                # normal case\n",
    "                newindex1 = min(index1+k//2-1,m-1)\n",
    "                newindex2 = min(index2+k//2-1,n-1)\n",
    "                pivot1,pivot2 = nums1[newindex1], nums2[newindex2]\n",
    "                if pivot1<=pivot2:\n",
    "                    k -= newindex1-index1+1 # k_new=k_old-k_old//2\n",
    "                    index1 = newindex1 + 1 # index1 += k_new//2\n",
    "                else:\n",
    "                    k -= newindex2-index2+1 # k_new=k_old-k_old//2\n",
    "                    index2 = newindex2 + 1 # index2 += k_new//2\n",
    "\n",
    "        m,n= len(nums1),len(nums2)\n",
    "        total_length=m+n\n",
    "        if total_length%2==1: # if it's odd\n",
    "            return getKthElement((total_length+1)//2)\n",
    "        else:\n",
    "            return (getKthElement(total_length//2) + getKthElement(total_length//2+1))/2\n",
    "                "
   ]
  },
  {
   "cell_type": "code",
   "execution_count": 37,
   "metadata": {},
   "outputs": [
    {
     "data": {
      "text/plain": [
       "2.5"
      ]
     },
     "execution_count": 37,
     "metadata": {},
     "output_type": "execute_result"
    }
   ],
   "source": [
    "Solution().findMedianSortedArrays([1,2,3,4],[2,4])"
   ]
  },
  {
   "cell_type": "markdown",
   "metadata": {},
   "source": [
    "### 5. 最长回文子串 Longest Palindromic Substring"
   ]
  },
  {
   "cell_type": "markdown",
   "metadata": {},
   "source": [
    "* strings like `abcba,aba,bb,a` are called palindromic strings\n",
    "* One possible solution is to use **dynamic programming**\n",
    "```Python\n",
    "    # input: string S\n",
    "    dp[i][j] =\n",
    "        True # if S[i:j] is a palindromic string\n",
    "        False# otherwise\n",
    "    # base case:\n",
    "        dp[i][i]=True # S[i] is a palindromic string like a,b,c...\n",
    "        dp[i][i+1]=True # if S[i]== S[i+1] like aa,bb,cc\n",
    "        dp[i][i+2]=True # if S[i]== S[i+2] like aba,bcb,cdc\n",
    "    # normally:\n",
    "        dp[i][j]=dp[i+1][j-1] AND S[i]==S[j]\n",
    "            # S[i:j] is a palindromic string if and only if S[i+1:j-1] is \n",
    "            # a palindromic string and S[i]==S[j]\n",
    "```"
   ]
  },
  {
   "cell_type": "code",
   "execution_count": 45,
   "metadata": {},
   "outputs": [],
   "source": [
    "class Solution:\n",
    "    def longestPalindrome(self, s: str) -> str:\n",
    "        n=len(s)\n",
    "        if n<2:\n",
    "            return s\n",
    "        max_len=1 # max length of the longest Palindrome(LP)\n",
    "        start_index=0 # the start of the LP\n",
    "\n",
    "        # init a dynamic programming table\n",
    "        dp=[[False]*n for _ in range(n)]\n",
    "        \n",
    "        #base case 1\n",
    "        for i in range(n):\n",
    "            dp[i][i]=True\n",
    "\n",
    "        # L: the length of the LP\n",
    "        for L in range(2,n+1):\n",
    "            # the left index for LP\n",
    "            for i in range(n):\n",
    "                j=i+L-1 # the right index for LP\n",
    "\n",
    "                if j>=n: # if j exceed the border of dp table\n",
    "                    break\n",
    "\n",
    "                if s[i] != s[j]:\n",
    "                    dp[i][j]=False\n",
    "                else:\n",
    "                    if L<4: # base case2, base case3 \n",
    "                        dp[i][j] = True\n",
    "                    else:\n",
    "                        dp[i][j] = dp[i+1][j-1]\n",
    "\n",
    "                if (L>max_len) and dp[i][j]:\n",
    "                    max_len=L\n",
    "                    start_index=i\n",
    "\n",
    "        return s[start_index:start_index+max_len]"
   ]
  },
  {
   "cell_type": "code",
   "execution_count": 46,
   "metadata": {},
   "outputs": [
    {
     "data": {
      "text/plain": [
       "'abccba'"
      ]
     },
     "execution_count": 46,
     "metadata": {},
     "output_type": "execute_result"
    }
   ],
   "source": [
    "Solution().longestPalindrome(\"aabccbabcd\")"
   ]
  }
 ],
 "metadata": {
  "kernelspec": {
   "display_name": "Python 3.9.12 ('.venv': poetry)",
   "language": "python",
   "name": "python3"
  },
  "language_info": {
   "codemirror_mode": {
    "name": "ipython",
    "version": 3
   },
   "file_extension": ".py",
   "mimetype": "text/x-python",
   "name": "python",
   "nbconvert_exporter": "python",
   "pygments_lexer": "ipython3",
   "version": "3.9.12"
  },
  "orig_nbformat": 4,
  "vscode": {
   "interpreter": {
    "hash": "f54d5f6a586d384cf88c66c00a887e06d27a0e01794e4e8a1bc992d788c1e0c4"
   }
  }
 },
 "nbformat": 4,
 "nbformat_minor": 2
}
