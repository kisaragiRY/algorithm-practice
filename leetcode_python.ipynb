{
 "cells": [
  {
   "cell_type": "markdown",
   "metadata": {},
   "source": [
    "# 腾讯精选练习 50题\n",
    "Selected Exercises 50 Questions（Tencent）"
   ]
  },
  {
   "cell_type": "markdown",
   "metadata": {},
   "source": [
    "### 2. 两数相加 Add Two Numbers"
   ]
  },
  {
   "cell_type": "code",
   "execution_count": 25,
   "metadata": {},
   "outputs": [
    {
     "name": "stdout",
     "output_type": "stream",
     "text": [
      "4\n",
      "0\n",
      "4\n"
     ]
    }
   ],
   "source": [
    "# Definition for singly-linked list.\n",
    "class ListNode:\n",
    "    def __init__(self, val=0, next=None):\n",
    "        self.val = val\n",
    "        self.next = next\n",
    "\n",
    "class Solution:\n",
    "    def addTwoNumbers(self, l1: ListNode, l2: ListNode) -> ListNode:\n",
    "        head=tail=False #用tail来追踪当前节点\n",
    "        carry=0 # 进位\n",
    "        while (l1 or l2):\n",
    "            n1=l1.val if l1 else 0\n",
    "            n2=l2.val if l2 else 0\n",
    "            sum = n1+n2+carry\n",
    "            if (not head):\n",
    "                head = tail = ListNode(sum%10)\n",
    "            else:\n",
    "                tail.next=ListNode(sum%10)\n",
    "                tail=tail.next\n",
    "            carry= sum //10\n",
    "            if l1: l1 = l1.next\n",
    "            if l2: l2 = l2.next\n",
    "        if carry>0: tail.next=ListNode(carry)\n",
    "        return head\n",
    "\n",
    "#---test\n",
    "l1=ListNode(3,ListNode(4)) #3 -> 4 -> none\n",
    "l2=ListNode(1,ListNode(6,ListNode(3))) #1 ->6 -> 3 -> none\n",
    "sol=Solution().addTwoNumbers(l1,l2)\n",
    "print(sol.val)\n",
    "print(sol.next.val)\n",
    "print((sol.next).next.val)"
   ]
  },
  {
   "cell_type": "markdown",
   "metadata": {},
   "source": [
    "### 4. 寻找两个正序数组的中位数 Median of Two Sorted Arrays"
   ]
  },
  {
   "cell_type": "markdown",
   "metadata": {},
   "source": [
    "*from Leetcode official*\n",
    "\n",
    "根据中位数的定义，\n",
    "* 当 $m+n$ 是奇数时，中位数是两个有序数组中的第 $(m+n)/2$ 个元素\n",
    "* 当$m+n$是偶数时，中位数是两个有序数组中的第$(m+n)/2$个元素和第 $(m+n)/2+1$个元素的平均值。\n",
    "\n",
    "因此，这道题可以转化成寻找两个有序数组中的第$k$小的数，其中$k$为$(m+n)/2$或$(m+n)/2+1$。\n",
    "\n",
    "因此我们可以归纳出三种情况： \n",
    "1. 如果 $A[k/2−1]<B[k/2−1]$，则比 $A[k/2−1]$小的数最多只有$A$的前 $k/2−1$个数和$B$的前$k/2−1$个数，即比$A[k/2−1]$小的数最多只有$k−2$个，因此$A[k/2−1]$不可能是第$k$个数，$A[0]$到$A[k/2−1]$也都不可能是第$k$个数，可以全部排除。 \n",
    "2. 如果$A[k/2−1]>B[k/2−1]$，则可以排除$B[0]$到$B[k/2−1]$。 \n",
    "3. 如果$A[k/2−1]=B[k/2−1]$，则可以归入第一种情况处理。 \n"
   ]
  },
  {
   "cell_type": "code",
   "execution_count": 27,
   "metadata": {},
   "outputs": [
    {
     "data": {
      "text/plain": [
       "1"
      ]
     },
     "execution_count": 27,
     "metadata": {},
     "output_type": "execute_result"
    }
   ],
   "source": [
    "6//4"
   ]
  }
 ],
 "metadata": {
  "kernelspec": {
   "display_name": "Python 3.9.12 ('.venv': poetry)",
   "language": "python",
   "name": "python3"
  },
  "language_info": {
   "codemirror_mode": {
    "name": "ipython",
    "version": 3
   },
   "file_extension": ".py",
   "mimetype": "text/x-python",
   "name": "python",
   "nbconvert_exporter": "python",
   "pygments_lexer": "ipython3",
   "version": "3.9.12"
  },
  "orig_nbformat": 4,
  "vscode": {
   "interpreter": {
    "hash": "f54d5f6a586d384cf88c66c00a887e06d27a0e01794e4e8a1bc992d788c1e0c4"
   }
  }
 },
 "nbformat": 4,
 "nbformat_minor": 2
}
