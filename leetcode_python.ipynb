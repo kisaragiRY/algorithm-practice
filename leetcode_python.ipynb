{
 "cells": [
  {
   "cell_type": "markdown",
   "metadata": {},
   "source": [
    "### 腾讯精选练习 50题\n",
    "Selected Exercises 50 Questions（Tencent）"
   ]
  },
  {
   "cell_type": "code",
   "execution_count": 25,
   "metadata": {},
   "outputs": [
    {
     "name": "stdout",
     "output_type": "stream",
     "text": [
      "4\n",
      "0\n",
      "4\n"
     ]
    }
   ],
   "source": [
    "# 2. 两数相加 Add Two Numbers\n",
    "\n",
    "# Definition for singly-linked list.\n",
    "class ListNode:\n",
    "    def __init__(self, val=0, next=None):\n",
    "        self.val = val\n",
    "        self.next = next\n",
    "\n",
    "class Solution:\n",
    "    def addTwoNumbers(self, l1: ListNode, l2: ListNode) -> ListNode:\n",
    "        head=tail=False\n",
    "        carry=0\n",
    "        while (l1 or l2):\n",
    "            n1=l1.val if l1 else 0\n",
    "            n2=l2.val if l2 else 0\n",
    "            sum = n1+n2+carry\n",
    "            if (not head):\n",
    "                head = tail = ListNode(sum%10)\n",
    "            else:\n",
    "                tail.next=ListNode(sum%10)\n",
    "                tail=tail.next\n",
    "            carry= sum //10\n",
    "            if l1: l1 = l1.next\n",
    "            if l2: l2 = l2.next\n",
    "        if carry>0: tail.next=ListNode(carry)\n",
    "        return head\n",
    "\n",
    "#---test\n",
    "l1=ListNode(3,ListNode(4)) #3 -> 4 -> none\n",
    "l2=ListNode(1,ListNode(6,ListNode(3))) #1 ->6 -> 3 -> none\n",
    "sol=Solution().addTwoNumbers(l1,l2)\n",
    "print(sol.val)\n",
    "print(sol.next.val)\n",
    "print((sol.next).next.val)"
   ]
  },
  {
   "cell_type": "code",
   "execution_count": 22,
   "metadata": {},
   "outputs": [
    {
     "data": {
      "text/plain": [
       "True"
      ]
     },
     "execution_count": 22,
     "metadata": {},
     "output_type": "execute_result"
    }
   ],
   "source": [
    "not None"
   ]
  }
 ],
 "metadata": {
  "kernelspec": {
   "display_name": "Python 3.9.12 ('.venv': poetry)",
   "language": "python",
   "name": "python3"
  },
  "language_info": {
   "codemirror_mode": {
    "name": "ipython",
    "version": 3
   },
   "file_extension": ".py",
   "mimetype": "text/x-python",
   "name": "python",
   "nbconvert_exporter": "python",
   "pygments_lexer": "ipython3",
   "version": "3.9.12"
  },
  "orig_nbformat": 4,
  "vscode": {
   "interpreter": {
    "hash": "f54d5f6a586d384cf88c66c00a887e06d27a0e01794e4e8a1bc992d788c1e0c4"
   }
  }
 },
 "nbformat": 4,
 "nbformat_minor": 2
}
