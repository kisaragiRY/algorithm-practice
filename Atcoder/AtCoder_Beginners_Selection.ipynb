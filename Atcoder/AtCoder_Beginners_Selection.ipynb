{
 "cells": [
  {
   "cell_type": "markdown",
   "metadata": {},
   "source": [
    "## AtCoder Beginners Selection"
   ]
  },
  {
   "cell_type": "code",
   "execution_count": 3,
   "metadata": {},
   "outputs": [
    {
     "name": "stdout",
     "output_type": "stream",
     "text": [
      "Even\n"
     ]
    }
   ],
   "source": [
    "# ABC086A - Product\n",
    "a,b=map(int,input().split())\n",
    "if a*b%2==0:\n",
    "    print(\"Even\")\n",
    "else:\n",
    "    print(\"Odd\")"
   ]
  },
  {
   "cell_type": "code",
   "execution_count": 9,
   "metadata": {},
   "outputs": [
    {
     "name": "stdout",
     "output_type": "stream",
     "text": [
      "2\n"
     ]
    }
   ],
   "source": [
    "# ABC081A - Placing Marbles\n",
    "print(input().count('1'))"
   ]
  },
  {
   "cell_type": "code",
   "execution_count": 17,
   "metadata": {},
   "outputs": [
    {
     "name": "stdout",
     "output_type": "stream",
     "text": [
      "8\n"
     ]
    }
   ],
   "source": [
    "# ABC081B - Shift only\n",
    "N=int(input())\n",
    "l=list(map(int,input().split()))\n",
    "i=0\n",
    "while True:\n",
    "    if any([x%2!=0 for x in l]):\n",
    "        print(i)\n",
    "        break\n",
    "    else:\n",
    "        l=[x/2 for x in l]\n",
    "        i+=1"
   ]
  },
  {
   "cell_type": "code",
   "execution_count": 23,
   "metadata": {},
   "outputs": [
    {
     "name": "stdout",
     "output_type": "stream",
     "text": [
      "8\n"
     ]
    }
   ],
   "source": [
    "# ABC081B - Shift only:method 2\n",
    "N=int(input())\n",
    "l=list(map(int,input().split()))\n",
    "\n",
    "ans=float(\"inf\")\n",
    "for i in l:\n",
    "    ans=min(ans, len(bin(i))-bin(i).rfind(\"1\")-1)\n",
    "print(ans)"
   ]
  },
  {
   "cell_type": "code",
   "execution_count": 28,
   "metadata": {},
   "outputs": [
    {
     "name": "stdout",
     "output_type": "stream",
     "text": [
      "213\n"
     ]
    }
   ],
   "source": [
    "# ABC087B - Coins\n",
    "a,b,c,x=int(input()),int(input()),int(input()),int(input())\n",
    "count=0\n",
    "for i in range(a+1):\n",
    "    for j in range(b+1):\n",
    "        for k in range(c+1):\n",
    "            if i*500+j*100+k*50==x:\n",
    "                count+=1\n",
    "print(count)"
   ]
  },
  {
   "cell_type": "code",
   "execution_count": 4,
   "metadata": {},
   "outputs": [
    {
     "name": "stdout",
     "output_type": "stream",
     "text": [
      "4554\n"
     ]
    }
   ],
   "source": [
    "# ABC083B - Some Sums\n",
    "N,a,b=map(int,input().split())\n",
    "s=0\n",
    "for i in range(N+1):\n",
    "    st=str(i)\n",
    "    digit_list=[int(d) for d in st]\n",
    "    if sum(digit_list)>=a and sum(digit_list)<=b:\n",
    "        s+=i\n",
    "print(s)"
   ]
  },
  {
   "cell_type": "code",
   "execution_count": 11,
   "metadata": {},
   "outputs": [
    {
     "data": {
      "text/plain": [
       "18"
      ]
     },
     "execution_count": 11,
     "metadata": {},
     "output_type": "execute_result"
    }
   ],
   "source": [
    "#ABC088B - Card Game for Two\n",
    "N=int(input())\n",
    "l=list(map(int,input().split()))\n",
    "l.sort(reverse=True)\n",
    "a=sum(l[0::2])\n",
    "b=sum(l[1::2])\n",
    "print(a-b)"
   ]
  },
  {
   "cell_type": "code",
   "execution_count": 12,
   "metadata": {},
   "outputs": [
    {
     "name": "stdout",
     "output_type": "stream",
     "text": [
      "1\n"
     ]
    }
   ],
   "source": [
    "#ABC085B - Kagami Mochi\n",
    "N=int(input())\n",
    "l=[]\n",
    "for i in range(N):\n",
    "    l.append(int(input()))\n",
    "print(len(set(l)))"
   ]
  },
  {
   "cell_type": "code",
   "execution_count": 13,
   "metadata": {},
   "outputs": [
    {
     "name": "stdout",
     "output_type": "stream",
     "text": [
      "1\n"
     ]
    }
   ],
   "source": [
    "#ABC085B - Kagami Mochi with hash table\n",
    "N=int(input())\n",
    "l=[]\n",
    "for i in range(N):\n",
    "    l.append(int(input()))\n",
    "hash_l=[]\n",
    "for j in l:\n",
    "    if j not in hash_l: hash_l.append(j)\n",
    "    else: continue\n",
    "print(len(hash_l))"
   ]
  },
  {
   "cell_type": "code",
   "execution_count": 35,
   "metadata": {},
   "outputs": [
    {
     "name": "stdout",
     "output_type": "stream",
     "text": [
      "-1 -1 -1\n"
     ]
    }
   ],
   "source": [
    "#ABC085C - Otoshidama\n",
    "def Otoshidama(N,Y):\n",
    "    for a in range(N+1):\n",
    "        for b in range(N+1):\n",
    "            c=N-a-b\n",
    "            if c>=0 and a*10000+b*5000+c*1000==Y:\n",
    "                print(f\"{a} {b} {c}\")\n",
    "                return\n",
    "\n",
    "    print(\"-1 -1 -1\")\n",
    "\n",
    "N,Y=map(int,input().split())\n",
    "Otoshidama(N,Y)"
   ]
  },
  {
   "cell_type": "code",
   "execution_count": 43,
   "metadata": {},
   "outputs": [
    {
     "data": {
      "text/plain": [
       "'NO'"
      ]
     },
     "execution_count": 43,
     "metadata": {},
     "output_type": "execute_result"
    }
   ],
   "source": [
    "# ABC049C - 白昼夢\n",
    "def dream(s:str):\n",
    "    i=0\n",
    "    max_length=len(s)\n",
    "    if max_length<5: \n",
    "        return \"NO\"\n",
    "\n",
    "    while True:\n",
    "        if i>max_length: \n",
    "            print(\"NO\")\n",
    "            return\n",
    "        elif i==max_length:\n",
    "            print(\"YES\")\n",
    "            return\n",
    "\n",
    "        if s[i]=='d' or s[i]=='e':\n",
    "            if s[i:i+7]==\"dreamer\":\n",
    "                if s[i:i+11]==\"dreameraser\":\n",
    "                    i+=11\n",
    "                    continue\n",
    "                elif s[i:i+10]==\"dreamerase\":\n",
    "                    i+=10\n",
    "                    continue\n",
    "                else:\n",
    "                    i+=7\n",
    "                    continue        \n",
    "            elif s[i:i+6]==\"eraser\":\n",
    "                i+=6\n",
    "                continue\n",
    "            elif s[i:i+5]==\"dream\" or s[i:i+5]==\"erase\":\n",
    "                i+=5\n",
    "                continue\n",
    "            else: \n",
    "                print(\"NO\")\n",
    "                return\n",
    "        else: \n",
    "            print(\"NO\")\n",
    "            return\n",
    "S=input()\n",
    "dream(S)"
   ]
  },
  {
   "cell_type": "code",
   "execution_count": 45,
   "metadata": {},
   "outputs": [
    {
     "name": "stdout",
     "output_type": "stream",
     "text": [
      "YES\n"
     ]
    }
   ],
   "source": [
    "# ABC049C - 白昼夢 a quick way\n",
    "s=input().replace(\"eraser\",\"\").replace(\"erase\",\"\").replace(\"dreamer\",\"\").replace(\"dream\",\"\")\n",
    "print(\"YES\" if len(s)==0 else \"NO\")"
   ]
  },
  {
   "cell_type": "code",
   "execution_count": 7,
   "metadata": {},
   "outputs": [
    {
     "name": "stdout",
     "output_type": "stream",
     "text": [
      "YES\n"
     ]
    }
   ],
   "source": [
    "#ABC086C - Traveling\n",
    "N= int(input())\n",
    "\n",
    "r=True\n",
    "path=[]\n",
    "for i in range(N):\n",
    "    path.append(map(int,input().split()))\n",
    "\n",
    "for p in path:\n",
    "    t,x,y=p\n",
    "    dist=x+y\n",
    "    if t<dist or (dist%2) != (t%2):\n",
    "        print(\"No\")\n",
    "        r=False\n",
    "        break\n",
    "\n",
    "if r:print(\"Yes\")\n"
   ]
  }
 ],
 "metadata": {
  "kernelspec": {
   "display_name": "Python 3.9.12 ('.venv': poetry)",
   "language": "python",
   "name": "python3"
  },
  "language_info": {
   "codemirror_mode": {
    "name": "ipython",
    "version": 3
   },
   "file_extension": ".py",
   "mimetype": "text/x-python",
   "name": "python",
   "nbconvert_exporter": "python",
   "pygments_lexer": "ipython3",
   "version": "3.9.12"
  },
  "orig_nbformat": 4,
  "vscode": {
   "interpreter": {
    "hash": "f54d5f6a586d384cf88c66c00a887e06d27a0e01794e4e8a1bc992d788c1e0c4"
   }
  }
 },
 "nbformat": 4,
 "nbformat_minor": 2
}
