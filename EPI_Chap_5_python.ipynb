{
 "cells": [
  {
   "cell_type": "markdown",
   "metadata": {},
   "source": [
    "# 5. Arrays"
   ]
  },
  {
   "cell_type": "markdown",
   "metadata": {},
   "source": [
    "## 5.1 The Dutch National Flag Problem\n",
    "1. Given a list A\n",
    "2. choose a pivot from A\n",
    "3. rearrange A so that \n",
    "\n",
    "    a. elements smaller than the pivot would be on the left (index smaller than the pivot)\n",
    "\n",
    "    b. elements smaller than the pivot would be in the center \n",
    "    \n",
    "    c. elements larger than the pivot would be on the right (index larger than the pivot)\n",
    "\n",
    "The solution is very similar to Quick Sort"
   ]
  },
  {
   "cell_type": "code",
   "execution_count": 3,
   "metadata": {},
   "outputs": [],
   "source": [
    "## 5.1 two pass, one for smaller elements, one for larger elements\n",
    "def dutch_flag_partition(pivot_index,A):\n",
    "    pivot=A[pivot_index]\n",
    "    smaller=0 # the smaller bound for elements i\n",
    "    for i in range(len(A)):\n",
    "        if A[i]<pivot:\n",
    "            A[i],A[smaller]=A[smaller],A[i]\n",
    "            smaller+=1\n",
    "    \n",
    "    larger=len(A)-1\n",
    "    for j in reversed(range(len(A))):\n",
    "        if A[j]>pivot:\n",
    "            A[j],A[larger]=A[larger],A[j]\n",
    "            larger-=1\n",
    "    return A"
   ]
  },
  {
   "cell_type": "code",
   "execution_count": 8,
   "metadata": {},
   "outputs": [
    {
     "data": {
      "text/plain": [
       "[2, 1, 3, 3, 3, 4, 7, 7, 9]"
      ]
     },
     "execution_count": 8,
     "metadata": {},
     "output_type": "execute_result"
    }
   ],
   "source": [
    "A=[3,3,4,2,1,7,3,7,9]\n",
    "dutch_flag_partition(1,A)"
   ]
  },
  {
   "cell_type": "markdown",
   "metadata": {},
   "source": [
    "## 5.2 Increase An Arbitrary-Precision Integer\n",
    "```\n",
    "increase 1\n",
    "<1,2,9> + 1 = <1,3,0>\n",
    "<9,9> + 1 = <1,0,0> \n",
    "```"
   ]
  },
  {
   "cell_type": "code",
   "execution_count": 9,
   "metadata": {},
   "outputs": [],
   "source": [
    "# 5.2 increase 1\n",
    "def plus_one(A):\n",
    "    A[-1]+=1\n",
    "    for i in reversed(range(1,len(A))):\n",
    "        if A[i]!=10:\n",
    "            break\n",
    "        A[i]=0\n",
    "        A[i-1]+=1\n",
    "    if A[0]==10:\n",
    "        A[0]=1\n",
    "        A.append(0)\n",
    "    return A"
   ]
  },
  {
   "cell_type": "code",
   "execution_count": 11,
   "metadata": {},
   "outputs": [
    {
     "data": {
      "text/plain": [
       "[1, 0, 0]"
      ]
     },
     "execution_count": 11,
     "metadata": {},
     "output_type": "execute_result"
    }
   ],
   "source": [
    "plus_one([9,9])"
   ]
  },
  {
   "cell_type": "markdown",
   "metadata": {},
   "source": [
    "## 5.3 Multiply Two Arbitrary-Precision Integers\n",
    "```\n",
    "<2,5> X <-6,5> = <-1,6,2,5>\n",
    "```\n",
    "* the calculation process goes like: \n",
    "    ```\n",
    "    25 X -65 = -[25 X (60 + 5)]= -[25 X 60 + 25 X 5]\n",
    "\n",
    "      65\n",
    "    X 25\n",
    "    -----\n",
    "     325\n",
    "    130\n",
    "    -----\n",
    "    1625\n",
    "    ```"
   ]
  },
  {
   "cell_type": "code",
   "execution_count": 72,
   "metadata": {},
   "outputs": [],
   "source": [
    "def multiply(num1,num2):\n",
    "    sign=-1 if (num1[0]<0)^(num2[0]<0) else 1\n",
    "    num1[0],num2[0]=abs(num1[0]),abs(num2[0])\n",
    "\n",
    "    #init\n",
    "    result=[0] * (len(num1)+len(num2))\n",
    "\n",
    "    for i in reversed(range(len(num1))):\n",
    "        for j in reversed(range(len(num2))):\n",
    "            result[i+j+1]+=num1[i]*num2[j]\n",
    "            result[i+j]+=result[i+j+1]//10\n",
    "            result[i+j+1]%=10\n",
    "    # remove the extra 0\n",
    "    # if result is full of 0, then return [0]\n",
    "    result=result[next((i for i,x in enumerate(result) if x!=0),len(result)):] or [0] \n",
    "    return [sign*result[0]]+result[1:]\n"
   ]
  },
  {
   "cell_type": "code",
   "execution_count": 73,
   "metadata": {},
   "outputs": [
    {
     "data": {
      "text/plain": [
       "[-1, 6, 2, 5]"
      ]
     },
     "execution_count": 73,
     "metadata": {},
     "output_type": "execute_result"
    }
   ],
   "source": [
    "multiply([2,5],[-6,5])"
   ]
  }
 ],
 "metadata": {
  "kernelspec": {
   "display_name": "Python 3.9.12 ('.venv': poetry)",
   "language": "python",
   "name": "python3"
  },
  "language_info": {
   "codemirror_mode": {
    "name": "ipython",
    "version": 3
   },
   "file_extension": ".py",
   "mimetype": "text/x-python",
   "name": "python",
   "nbconvert_exporter": "python",
   "pygments_lexer": "ipython3",
   "version": "3.9.12"
  },
  "orig_nbformat": 4,
  "vscode": {
   "interpreter": {
    "hash": "f54d5f6a586d384cf88c66c00a887e06d27a0e01794e4e8a1bc992d788c1e0c4"
   }
  }
 },
 "nbformat": 4,
 "nbformat_minor": 2
}
