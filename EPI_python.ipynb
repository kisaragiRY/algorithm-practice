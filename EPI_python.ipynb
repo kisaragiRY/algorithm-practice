{
 "cells": [
  {
   "cell_type": "markdown",
   "metadata": {},
   "source": [
    "### size notes : operator and,or between numbers\n",
    "AND/OR :\n",
    "5 and 7 #7\n",
    "* It check 5 first and found it is 'True' so it check for second also and return last one.\n",
    "\n",
    "0 and 5 # 0\n",
    "* it check for first and found is zero so whatever will be next value it is always zero so it return 0\n",
    "\n",
    "2 or 3 and 4 #2\n",
    "* first value is 2 ('True') and found OR So value is always true so return 2\n",
    "\n",
    "(2 or 3) and 4 #4\n",
    "* now return 4."
   ]
  },
  {
   "cell_type": "markdown",
   "metadata": {},
   "source": [
    "### bitwise operator\n",
    "\n",
    "Let x = 10 (0000 1010 in binary) and y = 4 (0000 0100 in binary)\n",
    "\n",
    "Operator| Meaning | Example\n",
    "|---|---|---|\n",
    "& | Bitwise AND\t| x & y = 0 (0000 0000)\n",
    "\\| |\tBitwise OR\t| x | y = 14 (0000 1110)\n",
    "~\t| Bitwise NOT\t| ~x = -11 (1111 0101)\n",
    "^\t| Bitwise XOR\t| x ^ y = 14 (0000 1110)\n",
    "\\>\\>\t| Bitwise right shift |\tx >> 2 = 2 (0000 0010)\n",
    "\\<\\<\t| Bitwise left shift\t|x << 2 = 40 (0010 1000)"
   ]
  },
  {
   "cell_type": "code",
   "execution_count": 12,
   "metadata": {},
   "outputs": [],
   "source": [
    "# 4.1 compute the parity of a word\n",
    "def parity(x):\n",
    "    result=0\n",
    "    while x:\n",
    "        result ^= x & 1 # result = result XOR 1, if x !=0\n",
    "        x >>= 1 # x=x(binary) right shift 1\n",
    "    return result"
   ]
  },
  {
   "cell_type": "code",
   "execution_count": 13,
   "metadata": {},
   "outputs": [
    {
     "data": {
      "text/plain": [
       "1"
      ]
     },
     "execution_count": 13,
     "metadata": {},
     "output_type": "execute_result"
    }
   ],
   "source": [
    "x=4 # bi: 100\n",
    "parity(x)\n",
    "'''\n",
    "1: x=100(bi) ; result = 0 XOR 1 => 1\n",
    "2: x=010(bi) ; result = 1 XOR 1 => 0\n",
    "3: x=001(bi) ; result = 0 XOR 1 => 1\n",
    "4: x=000(bi)\n",
    "return result=1\n",
    "'''"
   ]
  }
 ],
 "metadata": {
  "kernelspec": {
   "display_name": "Python 3.9.12 ('.venv': poetry)",
   "language": "python",
   "name": "python3"
  },
  "language_info": {
   "codemirror_mode": {
    "name": "ipython",
    "version": 3
   },
   "file_extension": ".py",
   "mimetype": "text/x-python",
   "name": "python",
   "nbconvert_exporter": "python",
   "pygments_lexer": "ipython3",
   "version": "3.9.12"
  },
  "orig_nbformat": 4,
  "vscode": {
   "interpreter": {
    "hash": "f54d5f6a586d384cf88c66c00a887e06d27a0e01794e4e8a1bc992d788c1e0c4"
   }
  }
 },
 "nbformat": 4,
 "nbformat_minor": 2
}
