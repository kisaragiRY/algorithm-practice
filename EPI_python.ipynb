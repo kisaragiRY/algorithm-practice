{
 "cells": [
  {
   "cell_type": "markdown",
   "metadata": {},
   "source": [
    "# 4.1 compute the parity of a word\n",
    "e.g. \n",
    "\n",
    "the parity of 1001 is 0(for it has two 1s) \n",
    "\n",
    "the parity of 1000 is 1(for it has one 1)\n",
    "\n",
    "## Bitwise operator\n",
    "\n",
    "Let x = 10 (0000 1010 in binary) and y = 4 (0000 0100 in binary)\n",
    "\n",
    "|Operator| Meaning | Example\n",
    "|---|---|---|\n",
    "|& | Bitwise AND\t| x & y = 0 (0000 0000)\n",
    "|\\| |\tBitwise OR\t| x | y = 14 (0000 1110)\n",
    "|~\t| Bitwise NOT\t| ~x = -11 (1111 0101)\n",
    "|^\t| Bitwise XOR\t| x ^ y = 14 (0000 1110)\n",
    "|\\>\\>\t| Bitwise right shift |\tx >> 2 = 2 (0000 0010)\n",
    "|\\<\\<\t| Bitwise left shift\t|x << 2 = 40 (0010 1000)\n",
    "\n",
    "* NOT\n",
    "  ```\n",
    "  NOT 0111  (decimal 7)\n",
    "    = 1000  (decimal 8)\n",
    "  ```\n",
    "* AND\n",
    "  ```\n",
    "      0101 (decimal 5)\n",
    "  AND 0011 (decimal 3)\n",
    "    = 0001 (decimal 1)\n",
    "  ```\n",
    "\n",
    "* OR\n",
    "\n",
    "  ```\n",
    "    0010 (decimal 2)\n",
    "  OR 1000 (decimal 8)\n",
    "  = 1010 (decimal 10)\n",
    "  ```\n",
    "\n",
    "* XOR\n",
    "  ```\n",
    "      0101 (decimal 5)\n",
    "  XOR 0011 (decimal 3)\n",
    "    = 0110 (decimal 6)\n",
    "  ```"
   ]
  },
  {
   "cell_type": "code",
   "execution_count": 15,
   "metadata": {},
   "outputs": [],
   "source": [
    "# 4.1 brute force\n",
    "def parity(x):\n",
    "    result=0\n",
    "    while x:\n",
    "        result ^= x & 1 # result = result XOR (x & 1), if x !=0\n",
    "        x >>= 1 # x=x(binary) right shift 1\n",
    "    return result"
   ]
  },
  {
   "cell_type": "markdown",
   "metadata": {},
   "source": [
    "#### e.g.\n",
    "```\n",
    "x=4 (bi: 100)\n",
    "1: x=100(bi) ; result = 000 XOR (100 & 001) = 000 XOR 000 = 000\n",
    "2: x=010(bi) ; result = 000 XOR (010 & 001) = 000 XOR 000 = 000\n",
    "3: x=001(bi) ; result = 000 XOR (001 & 001) = 000 XOR 001 = 001\n",
    "4: x=000(bi)\n",
    "return result=1\n",
    "```\n",
    "\n",
    "```\n",
    "x=5  (bi: 101)\n",
    "1: x=101(bi) ; result = 000 XOR (101 & 001) = 000 XOR 001 = 001\n",
    "2: x=010(bi) ; result = 001 XOR (010 & 001) = 001 XOR 000 = 001\n",
    "3: x=001(bi) ; result = 001 XOR (001 & 001) = 001 XOR 001 = 000\n",
    "4: x=000(bi)\n",
    "return result=0\n",
    "```"
   ]
  },
  {
   "cell_type": "code",
   "execution_count": 30,
   "metadata": {},
   "outputs": [],
   "source": [
    "# 4.1 erasing the lowest set bit\n",
    "def parity(x):\n",
    "    result=0\n",
    "    while x:\n",
    "        result ^=  1 \n",
    "        x &= x-1 # Drops the lowest set bit of x\n",
    "    return result"
   ]
  },
  {
   "cell_type": "code",
   "execution_count": null,
   "metadata": {},
   "outputs": [],
   "source": [
    "# 4.1 using 16 bit mask\n",
    "\n",
    "# first make a dictionary which has info like below\n",
    "# in the case 16 bits subwords, it may look simmilar\n",
    "# like {0000 0000 0000 0000:0, \n",
    "#       0000 0000 0000 0001:1, ...}\n",
    "PRECOMPUTED_PARITY={\"base 16 bit subwords\":\"corresponding parity\"}\n",
    "\n",
    "def parity(x):\n",
    "    MASK_SIZE=16\n",
    "\n",
    "    # 0x is like a declaimer telling us this is going to be hexadecimal\n",
    "    # F=15 in hexadecimal, in binary form F=1111\n",
    "    # we have 4 Fs here, therefore, 0xFFFF= 1111 1111 1111 1111\n",
    "    BIT_MASK=0xFFFF\n",
    "    \n",
    "    # for a 64-bit integer, it would have 4 16-bit subwords\n",
    "    subword1_parity=PRECOMPUTED_PARITY[x>>(3 * MASK_SIZE)]\n",
    "    subword2_parity=PRECOMPUTED_PARITY[x>>(2 * MASK_SIZE) & BIT_MASK]\n",
    "    subword3_parity=PRECOMPUTED_PARITY[x>>(1 * MASK_SIZE) & BIT_MASK]\n",
    "    subword4_parity=PRECOMPUTED_PARITY[x & BIT_MASK]\n",
    "    \n",
    "    return subword1_parity^subword2_parity^subword3_parity^subword4_parity"
   ]
  },
  {
   "cell_type": "markdown",
   "metadata": {},
   "source": [
    "### bit-fiddling tips summary(1)\n",
    "x=5(10**1**)\n",
    "* clear the lowest bit in x\n",
    "    ```\n",
    "    x&(x-1)=101&100=100\n",
    "    ```\n",
    "* extract the lowest bit of x\n",
    "    ```\n",
    "    x& ~(x-1)=101&(~100)=101&011=001\n",
    "    ```\n",
    "* get the last two bits of x using mask `11`\n",
    "    ```\n",
    "        101\n",
    "    AND 011\n",
    "    =   001\n",
    "    ```\n",
    "* computing parity of a integer(110100) from parity of subwords(11,01,00)\n",
    "    ```\n",
    "    parity(11) = 0 , parity(01) = 1 , parity(00) = 0\n",
    "    parity(11 01 00) =  0 ^ 1 ^ 0 = 1\n",
    "    ```"
   ]
  },
  {
   "cell_type": "markdown",
   "metadata": {},
   "source": [
    "# 4.2 Swap Bits\n",
    "Given a 64-bit integer, swap the bit at indices i and j\n",
    "\n",
    "### bit-fiddling tips summary(2)\n",
    "* get the ith bit of x\n",
    "    ```\n",
    "    (x>>i)&1\n",
    "    ```\n",
    "* swaping using `11` mask\n",
    "    ```\n",
    "        10          01\n",
    "    XOR 11      XOR 11\n",
    "    =   01      =   10\n",
    "    ```"
   ]
  },
  {
   "cell_type": "code",
   "execution_count": 1,
   "metadata": {},
   "outputs": [],
   "source": [
    "# 4.2 brute-force\n",
    "def swap_bits(x,i,j):\n",
    "    if (x>>i)&1 != (x>>j)&1: # if the ith and jth bit differ\n",
    "        bit_mask=(1<<i)|(1<<j) # bit_mask=0..010..010...0, where ith and jth bit is 1\n",
    "        x^=bit_mask # x= x XOR bit_mask\n",
    "    return x\n",
    "        "
   ]
  },
  {
   "cell_type": "markdown",
   "metadata": {},
   "source": [
    "# 4.3 Reverse Bits\n",
    "* The order of bits reverse\n",
    "    ```\n",
    "    10011 -> 11001\n",
    "    ```\n",
    "* Reversing `10 01 00 11` is euqal to in turn reversing `rev(11)`, `rev(00)`, `rev(01)`, `rev(10)`\n",
    "\n",
    "### bit-fiddling tips summary(3)\n",
    "* any integer do `OR`  operation with `0` of same length equals the integer itself\n",
    "    ```\n",
    "    x=5(101)\n",
    "    \n",
    "       101\n",
    "    OR 000\n",
    "    =  101\n",
    "    ```"
   ]
  },
  {
   "cell_type": "code",
   "execution_count": 9,
   "metadata": {},
   "outputs": [
    {
     "data": {
      "text/plain": [
       "0.12"
      ]
     },
     "execution_count": 9,
     "metadata": {},
     "output_type": "execute_result"
    }
   ],
   "source": [
    "# 4.3 16 bit mask based on premade lookup table\n",
    "# similar to 4.1 using 16 bit mask\n",
    "PRECOMPUTED_PARITY={\"base 16 bit subwords\":\"reversed bits\"}\n",
    "\n",
    "def swap_bits(x):\n",
    "    MASK_SIZE=16\n",
    "    BIT_MASK=0xFFFF\n",
    "\n",
    "    reverse1=PRECOMPUTED_PARITY[x                & BIT_MASK] << 3*MASK_SIZE # put the last 16 bits to the front\n",
    "    reverse2=PRECOMPUTED_PARITY[(x>>  MASK_SIZE) & BIT_MASK] << 2*MASK_SIZE\n",
    "    reverse3=PRECOMPUTED_PARITY[(x>>2*MASK_SIZE) & BIT_MASK] << 1*MASK_SIZE\n",
    "    reverse4=PRECOMPUTED_PARITY[(x>>3*MASK_SIZE) & BIT_MASK]\n",
    "    return reverse1|reverse2|reverse3|reverse4\n"
   ]
  },
  {
   "cell_type": "code",
   "execution_count": null,
   "metadata": {},
   "outputs": [],
   "source": []
  }
 ],
 "metadata": {
  "kernelspec": {
   "display_name": "Python 3.9.12 ('.venv': poetry)",
   "language": "python",
   "name": "python3"
  },
  "language_info": {
   "codemirror_mode": {
    "name": "ipython",
    "version": 3
   },
   "file_extension": ".py",
   "mimetype": "text/x-python",
   "name": "python",
   "nbconvert_exporter": "python",
   "pygments_lexer": "ipython3",
   "version": "3.9.12"
  },
  "orig_nbformat": 4,
  "vscode": {
   "interpreter": {
    "hash": "f54d5f6a586d384cf88c66c00a887e06d27a0e01794e4e8a1bc992d788c1e0c4"
   }
  }
 },
 "nbformat": 4,
 "nbformat_minor": 2
}
