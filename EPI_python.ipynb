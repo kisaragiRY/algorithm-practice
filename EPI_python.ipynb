{
 "cells": [
  {
   "cell_type": "markdown",
   "metadata": {},
   "source": [
    "## 4.1 compute the parity of a word\n",
    "### Bitwise operator\n",
    "\n",
    "Let x = 10 (0000 1010 in binary) and y = 4 (0000 0100 in binary)\n",
    "\n",
    "Operator| Meaning | Example\n",
    "|---|---|---|\n",
    "& | Bitwise AND\t| x & y = 0 (0000 0000)\n",
    "\\| |\tBitwise OR\t| x | y = 14 (0000 1110)\n",
    "~\t| Bitwise NOT\t| ~x = -11 (1111 0101)\n",
    "^\t| Bitwise XOR\t| x ^ y = 14 (0000 1110)\n",
    "\\>\\>\t| Bitwise right shift |\tx >> 2 = 2 (0000 0010)\n",
    "\\<\\<\t| Bitwise left shift\t|x << 2 = 40 (0010 1000)\n",
    "\n",
    "#### NOT\n",
    "```\n",
    "NOT 0111  (decimal 7)\n",
    "  = 1000  (decimal 8)\n",
    "```\n",
    "#### AND\n",
    "```\n",
    "    0101 (decimal 5)\n",
    "AND 0011 (decimal 3)\n",
    "  = 0001 (decimal 1)\n",
    "```\n",
    "\n",
    "#### OR\n",
    "\n",
    "```\n",
    "   0010 (decimal 2)\n",
    "OR 1000 (decimal 8)\n",
    " = 1010 (decimal 10)\n",
    "```\n",
    "\n",
    "#### XOR\n",
    "```\n",
    "    0101 (decimal 5)\n",
    "XOR 0011 (decimal 3)\n",
    "  = 0110 (decimal 6)\n",
    "```"
   ]
  },
  {
   "cell_type": "code",
   "execution_count": 15,
   "metadata": {},
   "outputs": [],
   "source": [
    "# 4.1 brute force\n",
    "def parity(x):\n",
    "    result=0\n",
    "    while x:\n",
    "        result ^= x & 1 # result = result XOR (x & 1), if x !=0\n",
    "        x >>= 1 # x=x(binary) right shift 1\n",
    "    return result"
   ]
  },
  {
   "cell_type": "markdown",
   "metadata": {},
   "source": [
    "#### eg.\n",
    "```\n",
    "x=4 (bi: 100)\n",
    "1: x=100(bi) ; result = 000 XOR (100 & 001) = 000 XOR 000 = 000\n",
    "2: x=010(bi) ; result = 000 XOR (010 & 001) = 000 XOR 000 = 000\n",
    "3: x=001(bi) ; result = 000 XOR (001 & 001) = 000 XOR 001 = 001\n",
    "4: x=000(bi)\n",
    "return result=1\n",
    "```\n",
    "\n",
    "```\n",
    "x=5  (bi: 101)\n",
    "1: x=101(bi) ; result = 000 XOR (101 & 001) = 000 XOR 001 = 001\n",
    "2: x=010(bi) ; result = 001 XOR (010 & 001) = 001 XOR 000 = 001\n",
    "3: x=001(bi) ; result = 001 XOR (001 & 001) = 001 XOR 001 = 000\n",
    "4: x=000(bi)\n",
    "return result=0\n",
    "```"
   ]
  },
  {
   "cell_type": "code",
   "execution_count": 30,
   "metadata": {},
   "outputs": [],
   "source": [
    "# 4.1 erasing the lowest set bit\n",
    "def parity(x):\n",
    "    result=0\n",
    "    while x:\n",
    "        result ^=  1 \n",
    "        x &= x-1 # Drops the lowest set bit of x\n",
    "    return result"
   ]
  },
  {
   "cell_type": "markdown",
   "metadata": {},
   "source": [
    "#### eg.\n",
    "```\n",
    "x=4 (bi: 100)\n",
    "1: x=100             ; result = 000 XOR 001 = 001\n",
    "2: x=100 & 011 = 000 ; \n",
    "return result=1\n",
    "\n",
    "x=5  (bi: 101)\n",
    "1: x=101             ; result = 000 XOR 001 = 001\n",
    "2: x=101 & 100 = 100 ; result = 001 XOR 001 = 000\n",
    "3: x=100 & 011 = 000 ; \n",
    "4: x=000\n",
    "return result=0\n",
    "```"
   ]
  },
  {
   "cell_type": "code",
   "execution_count": 32,
   "metadata": {},
   "outputs": [
    {
     "data": {
      "text/plain": [
       "4"
      ]
     },
     "execution_count": 32,
     "metadata": {},
     "output_type": "execute_result"
    }
   ],
   "source": [
    "5&4"
   ]
  }
 ],
 "metadata": {
  "kernelspec": {
   "display_name": "Python 3.9.12 ('.venv': poetry)",
   "language": "python",
   "name": "python3"
  },
  "language_info": {
   "codemirror_mode": {
    "name": "ipython",
    "version": 3
   },
   "file_extension": ".py",
   "mimetype": "text/x-python",
   "name": "python",
   "nbconvert_exporter": "python",
   "pygments_lexer": "ipython3",
   "version": "3.9.12"
  },
  "orig_nbformat": 4,
  "vscode": {
   "interpreter": {
    "hash": "f54d5f6a586d384cf88c66c00a887e06d27a0e01794e4e8a1bc992d788c1e0c4"
   }
  }
 },
 "nbformat": 4,
 "nbformat_minor": 2
}
